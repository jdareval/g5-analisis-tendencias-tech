{
 "cells": [
  {
   "cell_type": "code",
   "execution_count": null,
   "id": "399676a8-cf3e-4154-9b71-6adad5b785a5",
   "metadata": {},
   "outputs": [],
   "source": []
  }
 ],
 "metadata": {
  
  "language_info": {
   "name": ""
  }
 },
 "nbformat": 4,
 "nbformat_minor": 5
}
