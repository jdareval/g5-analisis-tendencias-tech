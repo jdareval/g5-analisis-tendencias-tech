{
 "cells": [
  {
   "cell_type": "code",
   "execution_count": null,
   "id": "399676a8-cf3e-4154-9b71-6adad5b785a5",
   "metadata": {},
   "outputs": [],
   "source": []
  }
 ],
 "metadata": {
  "kernelspec": {
   "display_name": "",
   "name": ""
  },
  "language_info": {
   "name": ""
  }
 },
 "nbformat": 4,
 "nbformat_minor": 5
}
