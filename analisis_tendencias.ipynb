{
 "cells": [
  {
   "cell_type": "code",
   "execution_count": 1,
   "id": "399676a8-cf3e-4154-9b71-6adad5b785a5",
   "metadata": {},
   "outputs": [
    {
     "name": "stdout",
     "output_type": "stream",
     "text": [
      "Librerías importadas correctamente.\n"
     ]
    }
   ],
   "source": [
    "# ----- IMPORTACIÓN DE LIBRERÍAS -----\n",
    "# Se importan las librerias necesarias para proceder con la obtención de datos de Google Trends\n",
    "\n",
    "import pandas as pd\n",
    "from pytrends.request import TrendReq\n",
    "import time\n",
    "\n",
    "print(\"Librerías importadas correctamente.\")"
   ]
  },
  {
   "cell_type": "markdown",
   "id": "223c360d",
   "metadata": {},
   "source": [
    "# Importación de Librerias\n",
    "Esta primera celda, nos permite cargar las librerias fundamentales para el proyecto que estamos realizando\n",
    "'pandas:' Esta es la libreria estandar en Python para la manipulación y análisis de los datos (DataFrames)\n",
    "TrendReq de pytrends: Nos permite conectar a la API de Google Trends para realizar nuestra consultas de las tendencias \n",
    "time: LIbreria estandar de Python que nos permite agregar pausas deliberadas entre peticiones"
   ]
  },
  {
   "cell_type": "code",
   "execution_count": 2,
   "id": "1ee45a6c",
   "metadata": {},
   "outputs": [
    {
     "name": "stdout",
     "output_type": "stream",
     "text": [
      "Parámetros definidos. Se analizarán los terminos: ['laptop', 'iphone', 'samsung galaxy', 'playstation 5', 'tarjeta grafica']\n",
      "La búsqueda se realizará en 'EC' desde '2024-01-01 today'.\n"
     ]
    },
    {
     "data": {
      "text/plain": [
       "['laptop', 'iphone', 'samsung galaxy', 'playstation 5', 'tarjeta grafica']"
      ]
     },
     "execution_count": 2,
     "metadata": {},
     "output_type": "execute_result"
    }
   ],
   "source": [
    "# ----- DEFINICIÓN DE PARAMETROS DE BUSQUEDA -----\n",
    "# Se definen los parametros de busqueda que se utilizaran en las consultas a Google Trends\n",
    "# Centralizamos todas las variables de la consulta\n",
    "\n",
    "# Lista de términos a buscar. Pytrends funciona mejor con listas de 5 términos\n",
    "lista_keywords = [\"laptop\", \"iphone\", \"samsung galaxy\", \"playstation 5\", \"tarjeta grafica\"]\n",
    "\n",
    "# Parametros geográficos y temporales  codigo ISO 3166 alpha-2 para Ecuador es \"EC\"\n",
    "pais =\"EC\"\n",
    "\n",
    "#Periodo de tiempo para que sea desde el 1 de enero del 2024 hasta la fecha actual\n",
    "periodo_tiempo = '2024-01-01 today'\n",
    "\n",
    "print(f\"Parámetros definidos. Se analizarán los terminos: {lista_keywords}\")\n",
    "print(f\"La búsqueda se realizará en '{pais}' desde '{periodo_tiempo}'.\")\n",
    "\n",
    "lista_keywords"
   ]
  },
  {
   "cell_type": "markdown",
   "id": "b66742af",
   "metadata": {},
   "source": [
    "### DEFINICIÓN DE PARAMETROS\n",
    "Aqui definimos las variables que controlarán nuestra extracción de datos. Si quisieramos analizar otros productos, un pais diferente o un rango diferente de fechas, solo necesitamos modificar esta celda.\n",
    "pais: Se especifica 'EC' resultados exclusivos a Ecuador.\n",
    "periodo_tiempo: se define el rango de la extraccion de la información desde el primero de enero del 2024 hasta la actualidad"
   ]
  },
  {
   "cell_type": "code",
   "execution_count": 3,
   "id": "ea4c890d",
   "metadata": {},
   "outputs": [
    {
     "name": "stdout",
     "output_type": "stream",
     "text": [
      "Generando datos simulados...\n",
      "DataFrames simulados creados exitosamente.\n"
     ]
    }
   ],
   "source": [
    "### -----EXTRACCIÓN DE DATOS -----\n",
    "# Conexion a la API y se procede a realizar las dos consultas principales\n",
    "# 1. Tendencias a lo largo del tiempo\n",
    "# 2. Tendencias por subregión\n",
    "\n",
    "# Inicializa la conexión  con Goole Trends especificando el idioma y el uso horarios (UTC-5 --> 300 minutos)\n",
    "# Conexion a traves de un proxy para evitar bloqueos por parte de Google\n",
    "\"\"\"\n",
    "# Definimos los argumentos para la librería requests\n",
    "requests_args = {\n",
    "    'proxies': {\n",
    "        'https': 'https://proxy.google.com'\n",
    "    },\n",
    "    'timeout': (10, 30) # 10s para conectar, 30s para leer\n",
    "}\n",
    "\n",
    "# Inicializamos la conexión con todas las opciones:\n",
    "# hl: idioma, tz: zona horaria, timeout, reintentos, y los argumentos de requests (que incluyen el proxy).\n",
    "try:\n",
    "    print(\"Estableciendo conexión con Google Trends...\")\n",
    "    pytrends = TrendReq(\n",
    "        hl='es-EC', \n",
    "        tz=300, \n",
    "        timeout=(10, 30), \n",
    "        retries=2, \n",
    "        backoff_factor=0.1, \n",
    "        requests_args=requests_args\n",
    "    )\n",
    "    print(\"Conexión establecida.\")\n",
    "except Exception as e:\n",
    "    print(f\"Error al inicializar la conexión: {e}\")\n",
    "    pytrends = None\n",
    "\n",
    "# Solo proceder si la conexión fue exitosa\n",
    "if pytrends:\n",
    "    # 1. Obtenemos el interés a lo largo del tiempo\n",
    "    print(\"\\nRealizando la primera consulta: Interés a lo largo del tiempo...\")\n",
    "    try:\n",
    "        pytrends.build_payload(kw_list=lista_keywords, timeframe=periodo_tiempo, geo=pais)\n",
    "        df_tendencias = pytrends.interest_over_time()\n",
    "        print(\"-> Consulta de tendencias temporales exitosa.\")\n",
    "    except Exception as e:\n",
    "        print(f\"-> ERROR al obtener tendencias temporales: {e}\")\n",
    "        df_tendencias = pd.DataFrame() # Crear un DataFrame vacío si falla\n",
    "\n",
    "    # 2. Obtenemos el interés por región\n",
    "    print(\"\\nRealizando la segunda consulta: Interés por región...\")\n",
    "    time.sleep(10)  # Pausa de 10 segundos para ser respetuosos con la API\n",
    "\n",
    "    try:\n",
    "        # No es necesario volver a llamar a build_payload si los keywords no han cambiado\n",
    "        df_regiones = pytrends.interest_by_region(resolution='REGION', inc_low_vol=True)\n",
    "        print(\"-> Consulta de interés por región exitosa.\")\n",
    "    except Exception as e:\n",
    "        print(f\"-> ERROR al obtener interés por región: {e}\")\n",
    "        df_regiones = pd.DataFrame() # Crear un DataFrame vacío si falla\n",
    "\n",
    "    print(\"\\n¡Extracción de datos finalizada!\")\n",
    "else:\n",
    "    print(\"No se pudo continuar con la extracción de datos debido a un error de conexión.\")\n",
    "    # Creamos DataFrames vacíos para que el resto del notebook no falle\n",
    "    df_tendencias = pd.DataFrame()\n",
    "    df_regiones = pd.DataFrame()\n",
    "\"\"\"\n",
    "# se procede a simular la optencion de datos ya que existe un bloqueo de la información por parte de google\n",
    "# o hay cambios en google que la libreria pytrends no ha podido adaptarse\n",
    "# realizamos pruebas de red, realizamos ping y tracert hacia trends y responde, pero no se obtienen\n",
    "# datos cuando utilizamos la herramienta y no procede a realizar la conexión cla api con google trends.\n",
    "\n",
    "# debido a bloqueos persistentes en la conexión con la API de Google Trends.\n",
    "\n",
    "print(\"Generando datos simulados...\")\n",
    "\n",
    "# 1. Simulación del DataFrame de Tendencias Temporales (df_tendencias)\n",
    "# Creamos un rango de fechas semanales para el 2024\n",
    "fechas = pd.to_datetime(pd.date_range(start='2024-01-01', periods=35, freq='W'))\n",
    "\n",
    "# Creamos datos de interés simulados (listas de 35 números)\n",
    "datos_tendencias = {\n",
    "    'laptop': [75, 72, 78, 73, 80, 82, 85, 83, 81, 79, 75, 72, 70, 68, 65, 67, 69, 71, 74, 77, 80, 83, 86, 88, 90, 92, 95, 98, 100, 97, 94, 91, 88, 85, 82],\n",
    "    'iphone': [60, 62, 65, 63, 68, 70, 72, 75, 95, 98, 90, 85, 82, 80, 78, 75, 77, 79, 81, 84, 87, 90, 93, 80, 78, 76, 74, 72, 70, 68, 66, 64, 62, 60, 58],\n",
    "    'samsung galaxy': [50, 52, 55, 53, 58, 60, 62, 65, 63, 61, 59, 55, 52, 50, 48, 45, 47, 49, 51, 54, 57, 60, 63, 66, 68, 70, 72, 75, 78, 70, 68, 66, 64, 62, 60],\n",
    "    'playstation 5': [90, 95, 98, 100, 97, 94, 91, 88, 85, 82, 79, 76, 78, 81, 84, 87, 90, 93, 96, 99, 97, 95, 93, 90, 87, 85, 83, 80, 77, 75, 73, 71, 69, 67, 65],\n",
    "    'tarjeta grafica': [65, 68, 70, 72, 75, 78, 80, 82, 85, 88, 90, 92, 95, 98, 96, 94, 92, 90, 88, 86, 84, 82, 80, 78, 76, 74, 72, 70, 68, 66, 64, 62, 60, 58, 56]\n",
    "}\n",
    "df_tendencias = pd.DataFrame(datos_tendencias, index=fechas)\n",
    "\n",
    "# 2. Simulación del DataFrame de Interés por Región (df_regiones)\n",
    "datos_regiones = {\n",
    "    'geoName': ['Pichincha', 'Guayas', 'Azuay', 'Manabi', 'Tungurahua', 'Los Rios'],\n",
    "    'laptop': [100, 95, 80, 75, 70, 65],\n",
    "    'iphone': [98, 100, 85, 70, 65, 60],\n",
    "    'samsung galaxy': [90, 92, 78, 82, 68, 62],\n",
    "    'playstation 5': [100, 98, 88, 72, 75, 68],\n",
    "    'tarjeta grafica': [95, 85, 90, 65, 78, 72]\n",
    "}\n",
    "df_regiones = pd.DataFrame(datos_regiones).set_index('geoName')\n",
    "\n",
    "print(\"DataFrames simulados creados exitosamente.\")\n",
    "\n"
   ]
  },
  {
   "cell_type": "markdown",
   "id": "5ec4ded5",
   "metadata": {},
   "source": [
    "### 3. Obtención de Datos (Simulación por Bloqueo de API)\n",
    "> **Nota Metodológica:** Durante la fase de extracción, se encontraron bloqueos de red persistentes al intentar acceder a los datos de Google Trends a través de la librería `pytrends`. Tras una depuración exhaustiva que incluyó el uso de proxies, timeouts, reintentos y el cambio a una red de datos móvil diferente, el problema persistió, sugiriendo un bloqueo a nivel de servicio fuera de nuestro control.\n",
    ">\n",
    "> Para no detener el progreso del proyecto y poder cumplir con los objetivos de análisis, visualización y modelado, se ha tomado la decisión pragmática de **generar un conjunto de datos simulado**. Este dataset imita fielmente la estructura (DataFrames, tipos de datos, rangos de valores) que `pytrends` devolvería, permitiendo el desarrollo completo de las fases posteriores del análisis."
   ]
  },
  {
   "cell_type": "markdown",
   "id": "8242d501",
   "metadata": {},
   "source": [
    "###     ----- IMPORTAR LIBRERIAS DE DE VIZUALIZACIÓN -----\n",
    "En esta fase, importamos matplotlib y seaborn, las librerías estándar para la visualización de datos en Python. Se establece un estilo visual (whitegrid) y un tamaño de figura por defecto para asegurar que nuestros gráficos sean legibles y estéticamente atractivos."
   ]
  },
  {
   "cell_type": "code",
   "execution_count": null,
   "id": "cba79a7d",
   "metadata": {},
   "outputs": [],
   "source": [
    "# importar librerias de vizualización\n",
    "import matplotlib.pyplot as plt\n",
    "import seaborn as sns\n",
    "\n",
    "#configuración de estilo para los graficos\n",
    "sns.set_style(\"whitegrid\")\n",
    "plt.rcParams['figure.figsize'] = (15, 7)  # Tamaño por defecto de las figuras\n",
    "\n",
    "print(\"Librerías de visualización importadas y configuradas.\")\n",
    "\n"
   ]
  },
  {
   "cell_type": "markdown",
   "id": "0485d04e",
   "metadata": {},
   "source": [
    "### ----- ¿CÚAL ES EL PRDUCTO MAS POPULAR? -----\n",
    "\n",
    "Para responder a nuestra primera pregunta, calculamos la media del interés de búsqueda para cada producto a lo largo del tiempo. El método .mean() de Pandas calcula el promedio de cada columna, y .sort_values(ascending=False) nos permite ordenarlos de mayor a menor.\n",
    "Insight: El gráfico de barras muestra claramente el ranking de popularidad. [Aquí Comp3 debe escribir una breve conclusión, ej: \"El término 'laptop' y 'playstation 5' dominan el interés de búsqueda promedio, sugiriendo una demanda constante y alta para estos productos...\"]"
   ]
  },
  {
   "cell_type": "code",
   "execution_count": null,
   "id": "45ea7249",
   "metadata": {},
   "outputs": [],
   "source": [
    "# ----- GRAFICO DE TENDENCIAS TEMPORALES -----\n",
    "# Visualizamos cómo ha cambiado el interés de cada producto a lo largo del tiempo.\n",
    "\n",
    "df_tendencias.plot(kind='line', style='-o', ms=4)\n",
    "plt.title('Evolución del Interés de Búsqueda a lo largo del Tiempo (2024)', fontsize=16)\n",
    "plt.xlabel('Fecha', fontsize=12)\n",
    "plt.ylabel('Interés de Búsqueda Normalizado (0-100)', fontsize=12)\n",
    "plt.legend(title='Productos')\n",
    "plt.show()"
   ]
  }
 ],
 "metadata": {
  "kernelspec": {
   "display_name": "venv",
   "language": "python",
   "name": "python3"
  },
  "language_info": {
   "codemirror_mode": {
    "name": "ipython",
    "version": 3
   },
   "file_extension": ".py",
   "mimetype": "text/x-python",
   "name": "python",
   "nbconvert_exporter": "python",
   "pygments_lexer": "ipython3",
   "version": "3.13.7"
  }
 },
 "nbformat": 4,
 "nbformat_minor": 5
}
